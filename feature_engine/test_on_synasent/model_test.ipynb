{
 "cells": [
  {
   "attachments": {},
   "cell_type": "markdown",
   "metadata": {},
   "source": [
    "### load test dataset"
   ]
  },
  {
   "cell_type": "code",
   "execution_count": 1,
   "metadata": {},
   "outputs": [],
   "source": [
    "import matplotlib.pyplot as plt\n",
    "import os\n",
    "\n",
    "import dynasent_utils as utils"
   ]
  },
  {
   "cell_type": "code",
   "execution_count": 2,
   "metadata": {},
   "outputs": [],
   "source": [
    "plt.style.use(\"dynasent.mplstyle\")"
   ]
  },
  {
   "cell_type": "code",
   "execution_count": 3,
   "metadata": {},
   "outputs": [
    {
     "data": {
      "text/plain": [
       "{'hit_ids': ['y21512', 'y21524'],\n",
       " 'sentence': 'The art exhibit has a lot to offer.',\n",
       " 'sentence_author': 'w262',\n",
       " 'has_prompt': True,\n",
       " 'prompt_data': {'indices_into_review_text': [242, 356],\n",
       "  'review_rating': 5,\n",
       "  'prompt_sentence': \"They're currently under construction for a new exhibit, but there is still enough art to enjoy for around 2 hours.\",\n",
       "  'review_id': '0cJld_mdcScG6zZtoPEFTA'},\n",
       " 'model_1_label': 'positive',\n",
       " 'model_1_probs': {'negative': 0.010349077172577381,\n",
       "  'positive': 0.8954706788063049,\n",
       "  'neutral': 0.09418027848005295},\n",
       " 'text_id': 'r2-0019256',\n",
       " 'label_distribution': {'positive': ['w148', 'w358', 'w4', 'w423', 'w139'],\n",
       "  'negative': [],\n",
       "  'neutral': [],\n",
       "  'mixed': []},\n",
       " 'gold_label': 'positive'}"
      ]
     },
     "execution_count": 3,
     "metadata": {},
     "output_type": "execute_result"
    }
   ],
   "source": [
    "src_dirname = \"dynasent-v1.1\"\n",
    "\n",
    "filename_template = os.path.join(\n",
    "    src_dirname, \"dynasent-v1.1-round02-dynabench-{}.jsonl\")\n",
    "\n",
    "test_filename = filename_template.format(\"test\")\n",
    "test = utils.load_dataset(test_filename)\n",
    "test[0]"
   ]
  },
  {
   "cell_type": "code",
   "execution_count": 4,
   "metadata": {},
   "outputs": [
    {
     "data": {
      "text/plain": [
       "positive    240\n",
       "neutral     240\n",
       "negative    240\n",
       "Total       720\n",
       "Name: gold_label, dtype: int64"
      ]
     },
     "execution_count": 4,
     "metadata": {},
     "output_type": "execute_result"
    }
   ],
   "source": [
    "utils.get_label_distribution(test, dist_labels=False)"
   ]
  },
  {
   "attachments": {},
   "cell_type": "markdown",
   "metadata": {},
   "source": [
    "### apply models on the test dataset"
   ]
  },
  {
   "cell_type": "code",
   "execution_count": 6,
   "metadata": {},
   "outputs": [
    {
     "name": "stderr",
     "output_type": "stream",
     "text": [
      "Some weights of the model checkpoint at cardiffnlp/twitter-roberta-base-sentiment-latest were not used when initializing RobertaForSequenceClassification: ['roberta.pooler.dense.bias', 'roberta.pooler.dense.weight']\n",
      "- This IS expected if you are initializing RobertaForSequenceClassification from the checkpoint of a model trained on another task or with another architecture (e.g. initializing a BertForSequenceClassification model from a BertForPreTraining model).\n",
      "- This IS NOT expected if you are initializing RobertaForSequenceClassification from the checkpoint of a model that you expect to be exactly identical (initializing a BertForSequenceClassification model from a BertForSequenceClassification model).\n"
     ]
    }
   ],
   "source": [
    "import sentiment_features"
   ]
  },
  {
   "cell_type": "code",
   "execution_count": 8,
   "metadata": {},
   "outputs": [],
   "source": [
    "actual_labels = [x['model_1_label'] for x in test]\n",
    "generated_labels_1 = []\n",
    "generated_labels_2 = []\n",
    "for i in range(len(test)):\n",
    "    x = test[i]\n",
    "    text = x['sentence']\n",
    "    scores_1 = sentiment_features.get_sentiment_1(text)\n",
    "    for k, v in scores_1.items():\n",
    "        if v == max(scores_1.values()):\n",
    "            generated_labels_1.append(k)\n",
    "    scores_2 = sentiment_features.get_sentiment_2(text)\n",
    "    for k, v in scores_2.items():\n",
    "        if v == max(scores_2.values()):\n",
    "            generated_labels_2.append(k)"
   ]
  },
  {
   "cell_type": "code",
   "execution_count": 10,
   "metadata": {},
   "outputs": [
    {
     "name": "stdout",
     "output_type": "stream",
     "text": [
      "F1 score for model 1 on test dataset: 0.581454636862018\n",
      "F1 score for model 2 on test dataset: 0.44863894024128853\n"
     ]
    }
   ],
   "source": [
    "from sklearn.metrics import f1_score\n",
    "f1_1 = f1_score(actual_labels, generated_labels_1, average='macro')\n",
    "f1_2 = f1_score(actual_labels, generated_labels_2, average='macro')\n",
    "\n",
    "print('F1 score for model 1 on test dataset:', f1_1)\n",
    "print('F1 score for model 2 on test dataset:', f1_2)"
   ]
  },
  {
   "cell_type": "code",
   "execution_count": null,
   "metadata": {},
   "outputs": [],
   "source": []
  }
 ],
 "metadata": {
  "kernelspec": {
   "display_name": "base",
   "language": "python",
   "name": "python3"
  },
  "language_info": {
   "codemirror_mode": {
    "name": "ipython",
    "version": 3
   },
   "file_extension": ".py",
   "mimetype": "text/x-python",
   "name": "python",
   "nbconvert_exporter": "python",
   "pygments_lexer": "ipython3",
   "version": "3.7.4"
  },
  "vscode": {
   "interpreter": {
    "hash": "40d3a090f54c6569ab1632332b64b2c03c39dcf918b08424e98f38b5ae0af88f"
   }
  }
 },
 "nbformat": 4,
 "nbformat_minor": 4
}
